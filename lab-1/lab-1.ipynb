{
 "cells": [
  {
   "cell_type": "markdown",
   "metadata": {},
   "source": [
    "# Картунчиков Артем ББМО-01-23\n",
    "## 14 вариант - (12, 8)\n",
    "\n",
    "12 - Напишите две функции. Первая функция заполняет массив случайными значениями, вторая функция выводит массив на экран\n",
    "\n",
    "8 - Вывод виде таблицы ФИО и среднеарифметическую оценку по всем предметам по зачетке"
   ]
  },
  {
   "cell_type": "code",
   "execution_count": null,
   "metadata": {},
   "outputs": [],
   "source": []
  }
 ],
 "metadata": {
  "language_info": {
   "name": "python"
  }
 },
 "nbformat": 4,
 "nbformat_minor": 2
}
