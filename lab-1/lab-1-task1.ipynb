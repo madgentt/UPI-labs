{
 "cells": [
  {
   "cell_type": "markdown",
   "metadata": {},
   "source": [
    "# Task 1\n",
    "## 12 - Напишите две функции. Первая функция заполняет массив случайными значениями, вторая функция выводит массив на экран"
   ]
  },
  {
   "cell_type": "code",
   "execution_count": 1,
   "metadata": {},
   "outputs": [],
   "source": [
    "import random"
   ]
  },
  {
   "cell_type": "code",
   "execution_count": 2,
   "metadata": {},
   "outputs": [],
   "source": [
    "def fill_array(length, min_val, max_val):\n",
    "\n",
    "    return [random.randint(min_val, max_val) for _ in range(length)]\n",
    "\n",
    "# Вторая функция для вывода массива на экран\n",
    "def print_array(arr):\n",
    "    print(arr)"
   ]
  },
  {
   "cell_type": "code",
   "execution_count": 7,
   "metadata": {},
   "outputs": [
    {
     "name": "stdout",
     "output_type": "stream",
     "text": [
      "[78, 84, 48, 14, 20, 24, 78, 87, 53, 73]\n"
     ]
    }
   ],
   "source": [
    "\n",
    "my_array = fill_array(10, 1, 100)\n",
    "print_array(my_array)"
   ]
  }
 ],
 "metadata": {
  "kernelspec": {
   "display_name": "Python 3",
   "language": "python",
   "name": "python3"
  },
  "language_info": {
   "codemirror_mode": {
    "name": "ipython",
    "version": 3
   },
   "file_extension": ".py",
   "mimetype": "text/x-python",
   "name": "python",
   "nbconvert_exporter": "python",
   "pygments_lexer": "ipython3",
   "version": "3.12.0"
  }
 },
 "nbformat": 4,
 "nbformat_minor": 2
}
